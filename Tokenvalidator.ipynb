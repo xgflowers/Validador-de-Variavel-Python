{
  "nbformat": 4,
  "nbformat_minor": 0,
  "metadata": {
    "colab": {
      "provenance": [],
      "authorship_tag": "ABX9TyNSM3GC4weA+0z6q3n+YOwT",
      "include_colab_link": true
    },
    "kernelspec": {
      "name": "python3",
      "display_name": "Python 3"
    },
    "language_info": {
      "name": "python"
    }
  },
  "cells": [
    {
      "cell_type": "markdown",
      "metadata": {
        "id": "view-in-github",
        "colab_type": "text"
      },
      "source": [
        "<a href=\"https://colab.research.google.com/github/xgflowers/Validador-de-Variavel-Python/blob/main/Tokenvalidator.ipynb\" target=\"_parent\"><img src=\"https://colab.research.google.com/assets/colab-badge.svg\" alt=\"Open In Colab\"/></a>"
      ]
    },
    {
      "cell_type": "code",
      "execution_count": null,
      "metadata": {
        "id": "dDx5v5nOU2T2",
        "colab": {
          "base_uri": "https://localhost:8080/"
        },
        "outputId": "a6be46b1-0cf0-401e-eb14-e72e71f01431"
      },
      "outputs": [
        {
          "output_type": "stream",
          "name": "stdout",
          "text": [
            "A variável 'exemplo123' é válida.\n",
            "A variável 'outra_variavel' é inválida porque excede 10 caracteres.\n",
            "A variável 'nome_valido' é inválida porque excede 10 caracteres.\n",
            "A variável 'variavel_1' é válida.\n",
            "A variável '1a' é inválida porque começa com número.\n",
            "A variável 'blabla+blab*bla' é inválida porque excede 10 caracteres, contém caractere inválido: '+'.\n"
          ]
        }
      ],
      "source": [
        "def validar_variavel (nome):\n",
        "  erros = []\n",
        "  # Ver. se o tamanho excede 10\n",
        "  if len(nome) > 10:\n",
        "      erros.append(\"excede 10 caracteres\")\n",
        "\n",
        "  # Ver. se começa com numero\n",
        "  if nome[0].isdigit():\n",
        "      erros.append(\"começa com número\")\n",
        "  # Ver. se há carac especiais exceto \"_\"\n",
        "  for char in nome:\n",
        "      if not (char.isalnum() or char == \"_\"):\n",
        "          erros.append(f\"contém caractere inválido: '{char}'\")\n",
        "          break\n",
        "\n",
        "  if erros:\n",
        "        return False, \", \".join(erros)\n",
        "\n",
        "  return True, \"válida\"\n",
        "\n",
        "variaveis = [\n",
        "    \"exemplo123\",\n",
        "    \"outra_variavel\",\n",
        "    \"nome_valido\",\n",
        "    \"variavel_1\",\n",
        "    \"1a\",\n",
        "    \"blabla+\"\n",
        "    \"blab*bla\"\n",
        "]\n",
        "\n",
        "for var in variaveis:\n",
        "    valida, motivo = validar_variavel(var)\n",
        "    if valida:\n",
        "        print(f\"A variável '{var}' é válida.\")\n",
        "    else:\n",
        "        print(f\"A variável '{var}' é inválida porque {motivo}.\")"
      ]
    }
  ]
}